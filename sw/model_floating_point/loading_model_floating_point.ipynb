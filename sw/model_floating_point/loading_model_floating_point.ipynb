{
 "cells": [
  {
   "cell_type": "code",
   "execution_count": 1,
   "metadata": {},
   "outputs": [
    {
     "name": "stderr",
     "output_type": "stream",
     "text": [
      "Using Theano backend.\n"
     ]
    },
    {
     "name": "stdout",
     "output_type": "stream",
     "text": [
      "X_train shape: (60000, 28, 28, 1)\n",
      "Train samples: 60000\n",
      "Test samples: 10000\n"
     ]
    }
   ],
   "source": [
    "import keras\n",
    "import numpy as np\n",
    "np.random.seed(1337)\n",
    "from keras.datasets import mnist\n",
    "from keras.models import Sequential\n",
    "from keras.layers import Dense, Dropout, Flatten\n",
    "from keras.layers import Conv2D, MaxPooling2D\n",
    "from keras import backend as K\n",
    "\n",
    "num_classes = 10\n",
    "\n",
    "# dimension\n",
    "rows, columns = 28, 28\n",
    "\n",
    "# Load MNIST data\n",
    "(X_train, Y_train), (X_test, Y_test) = mnist.load_data()\n",
    "\n",
    "# Reshape data as Keras's required format\n",
    "if K.image_data_format() == 'channels_first':\n",
    "    X_train = X_train.reshape(X_train.shape[0], 1, rows, columns)\n",
    "    X_test = X_test.reshape(X_test.shape[0], 1, rows, columns)\n",
    "    input_shape = (1, rows, columns)\n",
    "else:\n",
    "    X_train = X_train.reshape(X_train.shape[0], rows, columns, 1)\n",
    "    X_test = X_test.reshape(X_test.shape[0], rows, columns, 1)\n",
    "    input_shape = (rows, columns, 1)\n",
    "\n",
    "X_train = X_train.astype('float32') / 255.\n",
    "X_test = X_test.astype('float32') / 255.\n",
    "\n",
    "print('X_train shape:', X_train.shape)\n",
    "print('Train samples:', X_train.shape[0])\n",
    "print('Test samples:', X_test.shape[0])\n",
    "\n",
    "# One hot encoding label Y (convert class vectors to binary class matrices)\n",
    "Y_train = keras.utils.to_categorical(Y_train, num_classes)\n",
    "Y_test = keras.utils.to_categorical(Y_test, num_classes)\n",
    "\n",
    "# # Define the model\n",
    "model = Sequential()\n",
    "model.add(Conv2D(16, kernel_size=(3, 3), activation='relu', padding='same', input_shape=input_shape))\n",
    "model.add(MaxPooling2D(pool_size=(2, 2)))\n",
    "model.add(Conv2D(36, kernel_size=(3, 3), activation='relu', padding='same'))\n",
    "model.add(MaxPooling2D(pool_size=(2, 2)))\n",
    "model.add(Flatten())\n",
    "model.add(Dense(120, activation='relu'))\n",
    "model.add(Dense(84, activation='relu'))\n",
    "model.add(Dropout(0.5))\n",
    "model.add(Dense(num_classes, activation='softmax'))\n",
    "\n",
    "model.compile(loss=keras.losses.categorical_crossentropy,\n",
    "              optimizer=keras.optimizers.Adadelta(),\n",
    "              metrics=['accuracy'])"
   ]
  },
  {
   "cell_type": "code",
   "execution_count": 2,
   "metadata": {},
   "outputs": [
    {
     "name": "stdout",
     "output_type": "stream",
     "text": [
      "Loaded model from disk\n"
     ]
    }
   ],
   "source": [
    "model.load_weights('LeNET_model_for_MNIST_padding_same_20200523.h5')\n",
    "print(\"Loaded model from disk\")\n",
    "\n",
    "# model.load_model('mnist_model_padding_same_20200331.h5')"
   ]
  },
  {
   "cell_type": "code",
   "execution_count": 3,
   "metadata": {},
   "outputs": [
    {
     "name": "stdout",
     "output_type": "stream",
     "text": [
      "Model: \"sequential_1\"\n",
      "_________________________________________________________________\n",
      "Layer (type)                 Output Shape              Param #   \n",
      "=================================================================\n",
      "conv2d_1 (Conv2D)            (None, 28, 28, 16)        160       \n",
      "_________________________________________________________________\n",
      "max_pooling2d_1 (MaxPooling2 (None, 14, 14, 16)        0         \n",
      "_________________________________________________________________\n",
      "conv2d_2 (Conv2D)            (None, 14, 14, 36)        5220      \n",
      "_________________________________________________________________\n",
      "max_pooling2d_2 (MaxPooling2 (None, 7, 7, 36)          0         \n",
      "_________________________________________________________________\n",
      "flatten_1 (Flatten)          (None, 1764)              0         \n",
      "_________________________________________________________________\n",
      "dense_1 (Dense)              (None, 120)               211800    \n",
      "_________________________________________________________________\n",
      "dense_2 (Dense)              (None, 84)                10164     \n",
      "_________________________________________________________________\n",
      "dropout_1 (Dropout)          (None, 84)                0         \n",
      "_________________________________________________________________\n",
      "dense_3 (Dense)              (None, 10)                850       \n",
      "=================================================================\n",
      "Total params: 228,194\n",
      "Trainable params: 228,194\n",
      "Non-trainable params: 0\n",
      "_________________________________________________________________\n"
     ]
    }
   ],
   "source": [
    "model.summary()"
   ]
  },
  {
   "cell_type": "code",
   "execution_count": 4,
   "metadata": {},
   "outputs": [
    {
     "name": "stderr",
     "output_type": "stream",
     "text": [
      "WARNING (theano.configdefaults): install mkl with `conda install mkl-service`: No module named 'mkl'\n"
     ]
    },
    {
     "name": "stdout",
     "output_type": "stream",
     "text": [
      "Test loss: 0.040889969301866794\n",
      "Test accuracy: 0.9904000163078308\n"
     ]
    }
   ],
   "source": [
    "score = model.evaluate(X_test, Y_test, verbose=0)\n",
    "print('Test loss:', score[0])\n",
    "print('Test accuracy:', score[1])"
   ]
  },
  {
   "cell_type": "code",
   "execution_count": 5,
   "metadata": {},
   "outputs": [],
   "source": [
    "# L1_C1 conv2d_1 (Conv2D)            (None, 28, 28, 16)        160    DONE  \n",
    "# _________________________________________________________________\n",
    "# L2_P1 max_pooling2d_1 (MaxPooling2 (None, 14, 14, 16)        0         \n",
    "# _________________________________________________________________\n",
    "# L3_C2 conv2d_2 (Conv2D)            (None, 14, 14, 36)        5220   DONE\n",
    "# _________________________________________________________________\n",
    "# L4_P2 max_pooling2d_2 (MaxPooling2 (None, 7, 7, 36)          0         \n",
    "# _________________________________________________________________\n",
    "# L5_F1 flatten_1 (Flatten)          (None, 1764)              0         \n",
    "# _________________________________________________________________\n",
    "# L6_D1 dense_1 (Dense)              (None, 120)               211800    \n",
    "# _________________________________________________________________\n",
    "# L7_D2 dense_2 (Dense)              (None, 84)                10164     \n",
    "# _________________________________________________________________\n",
    "# L8    dropout_1 (Dropout)          (None, 84)                0         \n",
    "# _________________________________________________________________\n",
    "# L9_D3 dense_3 (Dense)              (None, 10)                850 "
   ]
  },
  {
   "cell_type": "code",
   "execution_count": 6,
   "metadata": {},
   "outputs": [
    {
     "name": "stdout",
     "output_type": "stream",
     "text": [
      "You have successfully defined the function!\n"
     ]
    }
   ],
   "source": [
    "def float_to_hexadecimal(number):\n",
    "    intBits=4\n",
    "    decBits=4\n",
    "    if decBits == 0:\n",
    "        mx = pow(2,intBits-1) - 1 # maximum number\n",
    "    else:\n",
    "        mx = pow(2,intBits-1) - pow(2,-1*decBits) # maximum number\n",
    "    mn = -1*pow(2,intBits-1) # minimum number\n",
    "    if number > mx:\n",
    "        print (\"number:\" + str(number) + \" has been truncated to: \" + str(mx))\n",
    "        number = mx\n",
    "    elif number < mn:\n",
    "        print (\"number:\" + str(number) + \" has been truncated to: \" + str(mn))\n",
    "        number = mn\n",
    "    n = []\n",
    "    m = 0\n",
    "    if number < 0:\n",
    "        n.append(1)\n",
    "        m = -1*pow(2,intBits-1)\n",
    "    else:\n",
    "        n.append(0)\n",
    "        m = 0\n",
    "    for i in reversed(range(intBits-1)):\n",
    "        m1 = m + pow(2,i)\n",
    "        if number < m1:\n",
    "            n.append(0)\n",
    "        else:\n",
    "            n.append(1)\n",
    "            m = m1\n",
    "    for i in range(1,decBits+1):\n",
    "        m1 = m + pow(2,-1*i)\n",
    "        if number < m1:\n",
    "            n.append(0)\n",
    "        else:\n",
    "            n.append(1)\n",
    "            m = m1\n",
    "    return hex(int(\"\".join(str(i) for i in n),2))[2:].zfill(2)\n",
    "\n",
    "print('You have successfully defined the function!')"
   ]
  },
  {
   "cell_type": "code",
   "execution_count": 7,
   "metadata": {},
   "outputs": [
    {
     "name": "stdout",
     "output_type": "stream",
     "text": [
      "L1_C1\n",
      "You have successfully saved L1_C1 weight and bias\n",
      "w: (3, 3, 1, 16)\n",
      "b: (16,)\n"
     ]
    }
   ],
   "source": [
    "print('L1_C1')\n",
    "L=1  #layer\n",
    "R=28 #input width\n",
    "C=28 #input height\n",
    "M=16 #output depth\n",
    "N=1  #input depth\n",
    "K=3  #kernel size\n",
    "S=1  #stride\n",
    "IR=(R-1)*S+K #30\n",
    "IC=(C-1)*S+K #30\n",
    "L1_C1_w = open('../dat_grad/L1_C1_w.dat','w')\n",
    "L1_C1_b = open('../dat_grad/L1_C1_b.dat','w')\n",
    "for mm in range(M):\n",
    "    for nn in range(N):\n",
    "        for ii in range(K):\n",
    "            for jj in range(K):\n",
    "                L1_C1_w.write(str(float_to_hexadecimal(model.layers[L-1].get_weights()[0][jj][ii][nn][mm]))+'\\n')\n",
    "    L1_C1_b.write(str(float_to_hexadecimal(model.layers[L-1].get_weights()[1][mm]))+'\\n')\n",
    "L1_C1_w.close()\n",
    "L1_C1_b.close()\n",
    "print('You have successfully saved L1_C1 weight and bias')\n",
    "print('w: '+str(model.layers[L-1].get_weights()[0].shape))\n",
    "print('b: '+str(model.layers[L-1].get_weights()[1].shape))"
   ]
  },
  {
   "cell_type": "code",
   "execution_count": 6,
   "metadata": {},
   "outputs": [
    {
     "name": "stdout",
     "output_type": "stream",
     "text": [
      "L1_C1\n",
      "You have successfully saved L1_C1 100 input (28x28) without padding test cases\n",
      "You have successfully saved L1_C1 100 input (30x30) with padding test cases\n"
     ]
    }
   ],
   "source": [
    "print('L1_C1')\n",
    "\n",
    "for test_num in range(100):\n",
    "    L1_C1_i = open('../dat_grad/L1_C1_i/L1_C1_i_'+str(\"{0:02d}\".format(test_num))+'.dat','w')\n",
    "    for x in X_test[test_num]:\n",
    "        for y in x:\n",
    "            L1_C1_i.write(str(float_to_hexadecimal(y[0]))+'\\n')\n",
    "    L1_C1_i.close()\n",
    "print('You have successfully saved L1_C1 100 input (28x28) without padding test cases')\n",
    "\n",
    "for test_num in range(100):\n",
    "    L1_C1_i_pad = open('../dat_grad/L1_C1_i_pad/L1_C1_i_pad_'+str(\"{0:02d}\".format(test_num))+'.dat','w')\n",
    "    for i in range(30):\n",
    "        L1_C1_i_pad.write('00'+'\\n')\n",
    "    for x in X_test[test_num]:\n",
    "        L1_C1_i_pad.write('00'+'\\n')\n",
    "        for y in x:\n",
    "            L1_C1_i_pad.write(str(float_to_hexadecimal(y[0]))+'\\n')\n",
    "        L1_C1_i_pad.write('00'+'\\n')\n",
    "    for i in range(30):\n",
    "        L1_C1_i_pad.write('00'+'\\n')    \n",
    "    L1_C1_i_pad.close()\n",
    "print('You have successfully saved L1_C1 100 input (30x30) with padding test cases')"
   ]
  },
  {
   "cell_type": "code",
   "execution_count": 9,
   "metadata": {},
   "outputs": [
    {
     "name": "stdout",
     "output_type": "stream",
     "text": [
      "L3_C2\n",
      "You have successfully saved L3_C2 weight and bias\n",
      "w: (3, 3, 16, 36)\n",
      "b: (36,)\n"
     ]
    }
   ],
   "source": [
    "print('L3_C2')\n",
    "L=3  #layer\n",
    "R=14 #input width\n",
    "C=14 #input height\n",
    "M=36 #output depth\n",
    "N=16 #input depth\n",
    "K=3  #kernel size\n",
    "S=1  #stride\n",
    "IR=(R-1)*S+K\n",
    "IC=(C-1)*S+K\n",
    "\n",
    "L3_C2_w = open('../dat_grad/L3_C2_w.dat','w')\n",
    "L3_C2_b = open('../dat_grad/L3_C2_b.dat','w')\n",
    "for mm in range(M):\n",
    "    for nn in range(N):\n",
    "        for ii in range(K):\n",
    "            for jj in range(K):\n",
    "                L3_C2_w.write(str(float_to_hexadecimal(model.layers[L-1].get_weights()[0][jj][ii][nn][mm]))+'\\n')\n",
    "    L3_C2_b.write(str(float_to_hexadecimal(model.layers[L-1].get_weights()[1][mm]))+'\\n')\n",
    "L3_C2_w.close()\n",
    "L3_C2_b.close()\n",
    "print('You have successfully saved L3_C2 weight and bias')\n",
    "\n",
    "print('w: '+str(model.layers[L-1].get_weights()[0].shape))\n",
    "print('b: '+str(model.layers[L-1].get_weights()[1].shape))"
   ]
  },
  {
   "cell_type": "code",
   "execution_count": null,
   "metadata": {},
   "outputs": [],
   "source": [
    "print('L6_D1 dense_1 (Dense)              (None, 120)               211800')\n",
    "L=6  #layer\n",
    "R=1 #input width\n",
    "C=1 #input height\n",
    "M=120 #output depth\n",
    "N=1764 #input depth\n",
    "K=0  #kernel size\n",
    "S=0  #stride\n",
    "IR=(R-1)*S+K\n",
    "IC=(C-1)*S+K\n",
    "\n",
    "L6_D1_w = open('../dat_grad/L6_D1_w.dat','w')\n",
    "L6_D1_b = open('../dat_grad/L6_D1_b.dat','w')\n",
    "for mm in range(M):\n",
    "    for nn in range(N):\n",
    "        L6_D1_w.write(str(float_to_hexadecimal(model.layers[L-1].get_weights()[0][nn][mm]))+'\\n')\n",
    "    L6_D1_b.write(str(float_to_hexadecimal(model.layers[L-1].get_weights()[1][mm]))+'\\n')\n",
    "L6_D1_w.close()\n",
    "L6_D1_b.close()\n",
    "print('You have successfully saved L6_D1 weight and bias')\n",
    "print('w: '+str(model.layers[L-1].get_weights()[0].shape))\n",
    "print('b: '+str(model.layers[L-1].get_weights()[1].shape))"
   ]
  },
  {
   "cell_type": "code",
   "execution_count": null,
   "metadata": {},
   "outputs": [],
   "source": [
    "print('L7_D2 dense_2 (Dense)              (None, 84)                10164')\n",
    "L=7  #layer\n",
    "R=1 #input width\n",
    "C=1 #input height\n",
    "M=84 #output depth\n",
    "N=120 #input depth\n",
    "K=0  #kernel size\n",
    "S=0  #stride\n",
    "IR=(R-1)*S+K\n",
    "IC=(C-1)*S+K\n",
    "\n",
    "L7_D2_w = open('../dat_grad/L7_D2_w.dat','w')\n",
    "L7_D2_b = open('../dat_grad/L7_D2_b.dat','w')\n",
    "for mm in range(M):\n",
    "    for nn in range(N):\n",
    "        L7_D2_w.write(str(float_to_hexadecimal(model.layers[L-1].get_weights()[0][nn][mm]))+'\\n')\n",
    "    L7_D2_b.write(str(float_to_hexadecimal(model.layers[L-1].get_weights()[1][mm]))+'\\n')\n",
    "L7_D2_w.close()\n",
    "L7_D2_b.close()\n",
    "print('You have successfully saved L6_D1 weight and bias')\n",
    "print('w: '+str(model.layers[L-1].get_weights()[0].shape))\n",
    "print('b: '+str(model.layers[L-1].get_weights()[1].shape))"
   ]
  },
  {
   "cell_type": "code",
   "execution_count": null,
   "metadata": {},
   "outputs": [],
   "source": [
    "print('L9_D3 dense_3 (Dense)              (None, 10)                850')\n",
    "L=9  #layer\n",
    "R=1 #input width\n",
    "C=1 #input height\n",
    "M=10 #output depth\n",
    "N=84 #input depth\n",
    "K=0  #kernel size\n",
    "S=0  #stride\n",
    "IR=(R-1)*S+K\n",
    "IC=(C-1)*S+K\n",
    "\n",
    "L9_D3_w = open('../dat_grad/L9_D3_w.dat','w')\n",
    "L9_D3_b = open('../dat_grad/L9_D3_b.dat','w')\n",
    "for mm in range(M):\n",
    "    for nn in range(N):\n",
    "        L9_D3_w.write(str(float_to_hexadecimal(model.layers[L-1].get_weights()[0][nn][mm]))+'\\n')\n",
    "    L9_D3_b.write(str(float_to_hexadecimal(model.layers[L-1].get_weights()[1][mm]))+'\\n')\n",
    "L9_D3_w.close()\n",
    "L9_D3_b.close()\n",
    "print('You have successfully saved L6_D1 weight and bias')\n",
    "print('w: '+str(model.layers[L-1].get_weights()[0].shape))\n",
    "print('b: '+str(model.layers[L-1].get_weights()[1].shape))"
   ]
  },
  {
   "cell_type": "code",
   "execution_count": null,
   "metadata": {},
   "outputs": [],
   "source": []
  }
 ],
 "metadata": {
  "kernelspec": {
   "display_name": "Python 3",
   "language": "python",
   "name": "python3"
  },
  "language_info": {
   "codemirror_mode": {
    "name": "ipython",
    "version": 3
   },
   "file_extension": ".py",
   "mimetype": "text/x-python",
   "name": "python",
   "nbconvert_exporter": "python",
   "pygments_lexer": "ipython3",
   "version": "3.6.10"
  }
 },
 "nbformat": 4,
 "nbformat_minor": 4
}
