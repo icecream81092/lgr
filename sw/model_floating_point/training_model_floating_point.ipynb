{
 "cells": [
  {
   "cell_type": "code",
   "execution_count": 1,
   "metadata": {
    "scrolled": true
   },
   "outputs": [
    {
     "name": "stderr",
     "output_type": "stream",
     "text": [
      "Using Theano backend.\n"
     ]
    },
    {
     "name": "stdout",
     "output_type": "stream",
     "text": [
      "X_train shape: (60000, 28, 28, 1)\n",
      "Train samples: 60000\n",
      "Test samples: 10000\n",
      "Model: \"sequential_1\"\n",
      "_________________________________________________________________\n",
      "Layer (type)                 Output Shape              Param #   \n",
      "=================================================================\n",
      "conv2d_1 (Conv2D)            (None, 28, 28, 16)        160       \n",
      "_________________________________________________________________\n",
      "max_pooling2d_1 (MaxPooling2 (None, 14, 14, 16)        0         \n",
      "_________________________________________________________________\n",
      "conv2d_2 (Conv2D)            (None, 14, 14, 36)        5220      \n",
      "_________________________________________________________________\n",
      "max_pooling2d_2 (MaxPooling2 (None, 7, 7, 36)          0         \n",
      "_________________________________________________________________\n",
      "flatten_1 (Flatten)          (None, 1764)              0         \n",
      "_________________________________________________________________\n",
      "dense_1 (Dense)              (None, 120)               211800    \n",
      "_________________________________________________________________\n",
      "dense_2 (Dense)              (None, 84)                10164     \n",
      "_________________________________________________________________\n",
      "dropout_1 (Dropout)          (None, 84)                0         \n",
      "_________________________________________________________________\n",
      "dense_3 (Dense)              (None, 10)                850       \n",
      "=================================================================\n",
      "Total params: 228,194\n",
      "Trainable params: 228,194\n",
      "Non-trainable params: 0\n",
      "_________________________________________________________________\n"
     ]
    },
    {
     "name": "stderr",
     "output_type": "stream",
     "text": [
      "WARNING (theano.configdefaults): install mkl with `conda install mkl-service`: No module named 'mkl'\n"
     ]
    },
    {
     "name": "stdout",
     "output_type": "stream",
     "text": [
      "Train on 60000 samples, validate on 10000 samples\n",
      "Epoch 1/20\n",
      "60000/60000 [==============================] - 97s 2ms/step - loss: 0.3494 - accuracy: 0.8902 - val_loss: 0.0660 - val_accuracy: 0.9768\n",
      "Epoch 2/20\n",
      "60000/60000 [==============================] - 106s 2ms/step - loss: 0.0869 - accuracy: 0.9765 - val_loss: 0.0514 - val_accuracy: 0.9829\n",
      "Epoch 3/20\n",
      "60000/60000 [==============================] - 121s 2ms/step - loss: 0.0644 - accuracy: 0.9824 - val_loss: 0.0379 - val_accuracy: 0.9877\n",
      "Epoch 4/20\n",
      "60000/60000 [==============================] - 116s 2ms/step - loss: 0.0502 - accuracy: 0.9862 - val_loss: 0.0320 - val_accuracy: 0.9892\n",
      "Epoch 5/20\n",
      "60000/60000 [==============================] - 111s 2ms/step - loss: 0.0416 - accuracy: 0.9887 - val_loss: 0.0276 - val_accuracy: 0.9907\n",
      "Epoch 6/20\n",
      "60000/60000 [==============================] - 118s 2ms/step - loss: 0.0343 - accuracy: 0.9906 - val_loss: 0.0272 - val_accuracy: 0.9906\n",
      "Epoch 7/20\n",
      "60000/60000 [==============================] - 114s 2ms/step - loss: 0.0290 - accuracy: 0.9918 - val_loss: 0.0297 - val_accuracy: 0.9890\n",
      "Epoch 8/20\n",
      "60000/60000 [==============================] - 116s 2ms/step - loss: 0.0247 - accuracy: 0.9929 - val_loss: 0.0288 - val_accuracy: 0.9909\n",
      "Epoch 9/20\n",
      "60000/60000 [==============================] - 118s 2ms/step - loss: 0.0220 - accuracy: 0.9938 - val_loss: 0.0321 - val_accuracy: 0.9907\n",
      "Epoch 10/20\n",
      "60000/60000 [==============================] - 114s 2ms/step - loss: 0.0188 - accuracy: 0.9945 - val_loss: 0.0298 - val_accuracy: 0.9908\n",
      "Epoch 11/20\n",
      "60000/60000 [==============================] - 121s 2ms/step - loss: 0.0163 - accuracy: 0.9952 - val_loss: 0.0375 - val_accuracy: 0.9906\n",
      "Epoch 12/20\n",
      "60000/60000 [==============================] - 117s 2ms/step - loss: 0.0149 - accuracy: 0.9960 - val_loss: 0.0370 - val_accuracy: 0.9900\n",
      "Epoch 13/20\n",
      "60000/60000 [==============================] - 118s 2ms/step - loss: 0.0130 - accuracy: 0.9966 - val_loss: 0.0300 - val_accuracy: 0.9911\n",
      "Epoch 14/20\n",
      "60000/60000 [==============================] - 120s 2ms/step - loss: 0.0119 - accuracy: 0.9968 - val_loss: 0.0357 - val_accuracy: 0.9910\n",
      "Epoch 15/20\n",
      "60000/60000 [==============================] - 119s 2ms/step - loss: 0.0107 - accuracy: 0.9966 - val_loss: 0.0338 - val_accuracy: 0.9910\n",
      "Epoch 16/20\n",
      "60000/60000 [==============================] - 119s 2ms/step - loss: 0.0096 - accuracy: 0.9971 - val_loss: 0.0351 - val_accuracy: 0.9909\n",
      "Epoch 17/20\n",
      "60000/60000 [==============================] - 120s 2ms/step - loss: 0.0086 - accuracy: 0.9978 - val_loss: 0.0365 - val_accuracy: 0.9915\n",
      "Epoch 18/20\n",
      "60000/60000 [==============================] - 120s 2ms/step - loss: 0.0083 - accuracy: 0.9975 - val_loss: 0.0387 - val_accuracy: 0.9909\n",
      "Epoch 19/20\n",
      "60000/60000 [==============================] - 101s 2ms/step - loss: 0.0071 - accuracy: 0.9979 - val_loss: 0.0373 - val_accuracy: 0.9908\n",
      "Epoch 20/20\n",
      "60000/60000 [==============================] - 114s 2ms/step - loss: 0.0065 - accuracy: 0.9982 - val_loss: 0.0409 - val_accuracy: 0.9904\n"
     ]
    }
   ],
   "source": [
    "import keras\n",
    "import numpy as np\n",
    "np.random.seed(1337)\n",
    "from keras.datasets import mnist\n",
    "from keras.models import Sequential\n",
    "from keras.layers import Dense, Dropout, Flatten\n",
    "from keras.layers import Conv2D, MaxPooling2D\n",
    "from keras import backend as K\n",
    "\n",
    "batch_size = 128\n",
    "num_classes = 10\n",
    "epochs = 20\n",
    "\n",
    "# dimension\n",
    "rows, columns = 28, 28\n",
    "\n",
    "# Load MNIST data\n",
    "(X_train, Y_train), (X_test, Y_test) = mnist.load_data()\n",
    "\n",
    "# Reshape data as Keras's required format\n",
    "if K.image_data_format() == 'channels_first':\n",
    "    X_train = X_train.reshape(X_train.shape[0], 1, rows, columns)\n",
    "    X_test = X_test.reshape(X_test.shape[0], 1, rows, columns)\n",
    "    input_shape = (1, rows, columns)\n",
    "else:\n",
    "    X_train = X_train.reshape(X_train.shape[0], rows, columns, 1)\n",
    "    X_test = X_test.reshape(X_test.shape[0], rows, columns, 1)\n",
    "    input_shape = (rows, columns, 1)\n",
    "\n",
    "X_train = X_train.astype('float32') / 255.\n",
    "X_test = X_test.astype('float32') / 255.\n",
    "\n",
    "print('X_train shape:', X_train.shape)\n",
    "print('Train samples:', X_train.shape[0])\n",
    "print('Test samples:', X_test.shape[0])\n",
    "\n",
    "# One hot encoding label Y (convert class vectors to binary class matrices)\n",
    "Y_train = keras.utils.to_categorical(Y_train, num_classes)\n",
    "Y_test = keras.utils.to_categorical(Y_test, num_classes)\n",
    "\n",
    "# Define the model\n",
    "model = Sequential()\n",
    "model.add(Conv2D(16, kernel_size=(3, 3), activation='relu', padding='same', input_shape=input_shape))\n",
    "model.add(MaxPooling2D(pool_size=(2, 2)))\n",
    "model.add(Conv2D(36, kernel_size=(3, 3), activation='relu', padding='same'))\n",
    "model.add(MaxPooling2D(pool_size=(2, 2)))\n",
    "model.add(Flatten())\n",
    "model.add(Dense(120, activation='relu'))\n",
    "model.add(Dense(84, activation='relu'))\n",
    "model.add(Dropout(0.5))\n",
    "model.add(Dense(num_classes, activation='softmax'))\n",
    "\n",
    "model.compile(loss=keras.losses.categorical_crossentropy,\n",
    "              optimizer=keras.optimizers.Adadelta(),\n",
    "              metrics=['accuracy'])\n",
    "\n",
    "model.summary()\n",
    "\n",
    "# Train model with data\n",
    "H = model.fit(X_train, Y_train,\n",
    "          batch_size=batch_size,\n",
    "          epochs=epochs,\n",
    "          verbose=1,\n",
    "          validation_data=(X_test, Y_test))"
   ]
  },
  {
   "cell_type": "code",
   "execution_count": 2,
   "metadata": {},
   "outputs": [
    {
     "name": "stdout",
     "output_type": "stream",
     "text": [
      "Test loss: 4.0889969301866795\n",
      "Test accuracy: 99.04000163078308\n"
     ]
    },
    {
     "data": {
      "image/png": "[encoded data removed]",
      "text/plain": [
       "<Figure size 432x288 with 1 Axes>"
      ]
     },
     "metadata": {
      "needs_background": "light"
     },
     "output_type": "display_data"
    }
   ],
   "source": [
    "import numpy as np\n",
    "import matplotlib.pyplot as plt\n",
    "\n",
    "# Vẽ đồ thị loss, accuracy của traning set và validation set\n",
    "fig = plt.figure()\n",
    "numOfEpoch = epochs\n",
    "plt.plot(np.arange(0, numOfEpoch), H.history['loss'], label='training loss')\n",
    "plt.plot(np.arange(0, numOfEpoch), H.history['val_loss'], label='validation loss')\n",
    "plt.plot(np.arange(0, numOfEpoch), H.history['accuracy'], label='accuracy')\n",
    "plt.plot(np.arange(0, numOfEpoch), H.history['val_accuracy'], label='validation accuracy')\n",
    "plt.title('Accuracy and Loss')\n",
    "plt.xlabel('Epoch')\n",
    "plt.ylabel('Loss|Accuracy')\n",
    "plt.legend()\n",
    "\n",
    "# Evaluate model with test set\n",
    "score = model.evaluate(X_test, Y_test, verbose=0)\n",
    "print('Test loss:', score[0]*100)\n",
    "print('Test accuracy:', score[1]*100)"
   ]
  },
  {
   "cell_type": "code",
   "execution_count": 3,
   "metadata": {},
   "outputs": [
    {
     "name": "stdout",
     "output_type": "stream",
     "text": [
      "Model: \"sequential_1\"\n",
      "_________________________________________________________________\n",
      "Layer (type)                 Output Shape              Param #   \n",
      "=================================================================\n",
      "conv2d_1 (Conv2D)            (None, 28, 28, 16)        160       \n",
      "_________________________________________________________________\n",
      "max_pooling2d_1 (MaxPooling2 (None, 14, 14, 16)        0         \n",
      "_________________________________________________________________\n",
      "conv2d_2 (Conv2D)            (None, 14, 14, 36)        5220      \n",
      "_________________________________________________________________\n",
      "max_pooling2d_2 (MaxPooling2 (None, 7, 7, 36)          0         \n",
      "_________________________________________________________________\n",
      "flatten_1 (Flatten)          (None, 1764)              0         \n",
      "_________________________________________________________________\n",
      "dense_1 (Dense)              (None, 120)               211800    \n",
      "_________________________________________________________________\n",
      "dense_2 (Dense)              (None, 84)                10164     \n",
      "_________________________________________________________________\n",
      "dropout_1 (Dropout)          (None, 84)                0         \n",
      "_________________________________________________________________\n",
      "dense_3 (Dense)              (None, 10)                850       \n",
      "=================================================================\n",
      "Total params: 228,194\n",
      "Trainable params: 228,194\n",
      "Non-trainable params: 0\n",
      "_________________________________________________________________\n"
     ]
    }
   ],
   "source": [
    "model.summary()"
   ]
  },
  {
   "cell_type": "code",
   "execution_count": 4,
   "metadata": {},
   "outputs": [
    {
     "name": "stdout",
     "output_type": "stream",
     "text": [
      "LeNET_model_for_MNIST_padding_same_20200523.h5\n",
      "Saved model to disk\n"
     ]
    }
   ],
   "source": [
    "from datetime import date\n",
    "today = date.today().strftime('%Y%m%d')\n",
    "model_name = 'LeNET_model_for_MNIST_padding_same_'+str(today)+'.h5'\n",
    "print(model_name)\n",
    "\n",
    "model.save(model_name)\n",
    "print(\"Saved model to disk\")"
   ]
  }
 ],
 "metadata": {
  "kernelspec": {
   "display_name": "Python 3",
   "language": "python",
   "name": "python3"
  },
  "language_info": {
   "codemirror_mode": {
    "name": "ipython",
    "version": 3
   },
   "file_extension": ".py",
   "mimetype": "text/x-python",
   "name": "python",
   "nbconvert_exporter": "python",
   "pygments_lexer": "ipython3",
   "version": "3.6.10"
  }
 },
 "nbformat": 4,
 "nbformat_minor": 2
}
